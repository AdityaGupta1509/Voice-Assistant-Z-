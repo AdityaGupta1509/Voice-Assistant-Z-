{
 "cells": [
  {
   "cell_type": "markdown",
   "metadata": {},
   "source": [
    "# Installed API's"
   ]
  },
  {
   "cell_type": "code",
   "execution_count": 1,
   "metadata": {
    "scrolled": true
   },
   "outputs": [
    {
     "name": "stdout",
     "output_type": "stream",
     "text": [
      "Requirement already satisfied: pyttsx3 in e:\\phython\\lib\\site-packages (2.90)\n",
      "Requirement already satisfied: comtypes; platform_system == \"Windows\" in e:\\phython\\lib\\site-packages (from pyttsx3) (1.1.7)\n",
      "Requirement already satisfied: pywin32; platform_system == \"Windows\" in e:\\phython\\lib\\site-packages (from pyttsx3) (227)\n",
      "Requirement already satisfied: pypiwin32; platform_system == \"Windows\" in e:\\phython\\lib\\site-packages (from pyttsx3) (223)\n",
      "Note: you may need to restart the kernel to use updated packages.\n"
     ]
    }
   ],
   "source": [
    "pip install pyttsx3"
   ]
  },
  {
   "cell_type": "code",
   "execution_count": 2,
   "metadata": {},
   "outputs": [
    {
     "name": "stdout",
     "output_type": "stream",
     "text": [
      "Requirement already satisfied: gTTS in e:\\phython\\lib\\site-packages (2.3.1)\n",
      "Requirement already satisfied: click<8.2,>=7.1 in e:\\phython\\lib\\site-packages (from gTTS) (7.1.2)\n",
      "Requirement already satisfied: requests<3,>=2.27 in e:\\phython\\lib\\site-packages (from gTTS) (2.28.2)\n",
      "Requirement already satisfied: urllib3<1.27,>=1.21.1 in e:\\phython\\lib\\site-packages (from requests<3,>=2.27->gTTS) (1.25.11)\n",
      "Requirement already satisfied: charset-normalizer<4,>=2 in e:\\phython\\lib\\site-packages (from requests<3,>=2.27->gTTS) (3.0.1)\n",
      "Requirement already satisfied: idna<4,>=2.5 in e:\\phython\\lib\\site-packages (from requests<3,>=2.27->gTTS) (2.10)\n",
      "Requirement already satisfied: certifi>=2017.4.17 in e:\\phython\\lib\\site-packages (from requests<3,>=2.27->gTTS) (2020.6.20)\n",
      "Note: you may need to restart the kernel to use updated packages.\n"
     ]
    }
   ],
   "source": [
    "pip install gTTS"
   ]
  },
  {
   "cell_type": "code",
   "execution_count": 3,
   "metadata": {
    "scrolled": true
   },
   "outputs": [
    {
     "name": "stdout",
     "output_type": "stream",
     "text": [
      "Requirement already satisfied: SpeechRecognition in e:\\phython\\lib\\site-packages (3.9.0)\n",
      "Requirement already satisfied: requests>=2.26.0 in e:\\phython\\lib\\site-packages (from SpeechRecognition) (2.28.2)\n",
      "Requirement already satisfied: idna<4,>=2.5 in e:\\phython\\lib\\site-packages (from requests>=2.26.0->SpeechRecognition) (2.10)\n",
      "Requirement already satisfied: certifi>=2017.4.17 in e:\\phython\\lib\\site-packages (from requests>=2.26.0->SpeechRecognition) (2020.6.20)\n",
      "Requirement already satisfied: urllib3<1.27,>=1.21.1 in e:\\phython\\lib\\site-packages (from requests>=2.26.0->SpeechRecognition) (1.25.11)\n",
      "Requirement already satisfied: charset-normalizer<4,>=2 in e:\\phython\\lib\\site-packages (from requests>=2.26.0->SpeechRecognition) (3.0.1)\n",
      "Note: you may need to restart the kernel to use updated packages.\n"
     ]
    }
   ],
   "source": [
    "pip install SpeechRecognition"
   ]
  },
  {
   "cell_type": "code",
   "execution_count": 4,
   "metadata": {
    "scrolled": true
   },
   "outputs": [
    {
     "name": "stdout",
     "output_type": "stream",
     "text": [
      "Requirement already satisfied: pyjokes in e:\\phython\\lib\\site-packages (0.6.0)\n",
      "Note: you may need to restart the kernel to use updated packages.\n"
     ]
    }
   ],
   "source": [
    "pip install pyjokes"
   ]
  },
  {
   "cell_type": "code",
   "execution_count": 5,
   "metadata": {},
   "outputs": [
    {
     "name": "stdout",
     "output_type": "stream",
     "text": [
      "Requirement already satisfied: PyAudio in e:\\phython\\lib\\site-packages (0.2.13)\n",
      "Note: you may need to restart the kernel to use updated packages.\n"
     ]
    }
   ],
   "source": [
    "pip install PyAudio"
   ]
  },
  {
   "cell_type": "code",
   "execution_count": 6,
   "metadata": {},
   "outputs": [
    {
     "name": "stdout",
     "output_type": "stream",
     "text": [
      "Requirement already satisfied: python-vlc in e:\\phython\\lib\\site-packages (3.0.18121)Note: you may need to restart the kernel to use updated packages.\n",
      "\n"
     ]
    }
   ],
   "source": [
    "pip install python-vlc"
   ]
  },
  {
   "cell_type": "code",
   "execution_count": 7,
   "metadata": {},
   "outputs": [
    {
     "name": "stdout",
     "output_type": "stream",
     "text": [
      "Requirement already satisfied: pyautogui in e:\\phython\\lib\\site-packages (0.9.53)\n",
      "Requirement already satisfied: pymsgbox in e:\\phython\\lib\\site-packages (from pyautogui) (1.0.9)\n",
      "Requirement already satisfied: pygetwindow>=0.0.5 in e:\\phython\\lib\\site-packages (from pyautogui) (0.0.9)\n",
      "Requirement already satisfied: pyscreeze>=0.1.21 in e:\\phython\\lib\\site-packages (from pyautogui) (0.1.28)\n",
      "Requirement already satisfied: PyTweening>=1.0.1 in e:\\phython\\lib\\site-packages (from pyautogui) (1.0.4)\n",
      "Requirement already satisfied: mouseinfo in e:\\phython\\lib\\site-packages (from pyautogui) (0.1.3)\n",
      "Requirement already satisfied: pyrect in e:\\phython\\lib\\site-packages (from pygetwindow>=0.0.5->pyautogui) (0.2.0)\n",
      "Requirement already satisfied: Pillow>=6.2.1; python_version == \"3.8\" in e:\\phython\\lib\\site-packages (from pyscreeze>=0.1.21->pyautogui) (8.0.1)\n",
      "Requirement already satisfied: pyperclip in e:\\phython\\lib\\site-packages (from mouseinfo->pyautogui) (1.8.2)\n",
      "Note: you may need to restart the kernel to use updated packages.\n"
     ]
    }
   ],
   "source": [
    "pip install pyautogui"
   ]
  },
  {
   "cell_type": "code",
   "execution_count": 8,
   "metadata": {},
   "outputs": [
    {
     "name": "stdout",
     "output_type": "stream",
     "text": [
      "Requirement already satisfied: pydub in e:\\phython\\lib\\site-packages (0.25.1)\n",
      "Note: you may need to restart the kernel to use updated packages.\n"
     ]
    }
   ],
   "source": [
    "pip install pydub"
   ]
  },
  {
   "cell_type": "code",
   "execution_count": 1,
   "metadata": {
    "scrolled": true
   },
   "outputs": [
    {
     "name": "stdout",
     "output_type": "stream",
     "text": [
      "Requirement already satisfied: wikipedia in e:\\phython\\lib\\site-packages (1.4.0)\n",
      "Requirement already satisfied: requests<3.0.0,>=2.0.0 in e:\\phython\\lib\\site-packages (from wikipedia) (2.28.2)\n",
      "Requirement already satisfied: beautifulsoup4 in e:\\phython\\lib\\site-packages (from wikipedia) (4.9.3)\n",
      "Requirement already satisfied: urllib3<1.27,>=1.21.1 in e:\\phython\\lib\\site-packages (from requests<3.0.0,>=2.0.0->wikipedia) (1.25.11)\n",
      "Requirement already satisfied: charset-normalizer<4,>=2 in e:\\phython\\lib\\site-packages (from requests<3.0.0,>=2.0.0->wikipedia) (3.0.1)\n",
      "Requirement already satisfied: certifi>=2017.4.17 in e:\\phython\\lib\\site-packages (from requests<3.0.0,>=2.0.0->wikipedia) (2020.6.20)\n",
      "Requirement already satisfied: idna<4,>=2.5 in e:\\phython\\lib\\site-packages (from requests<3.0.0,>=2.0.0->wikipedia) (2.10)\n",
      "Requirement already satisfied: soupsieve>1.2; python_version >= \"3.0\" in e:\\phython\\lib\\site-packages (from beautifulsoup4->wikipedia) (2.0.1)\n",
      "Note: you may need to restart the kernel to use updated packages.\n"
     ]
    }
   ],
   "source": [
    "pip install wikipedia"
   ]
  },
  {
   "cell_type": "code",
   "execution_count": 40,
   "metadata": {},
   "outputs": [
    {
     "name": "stdout",
     "output_type": "stream",
     "text": [
      "Collecting playsoundNote: you may need to restart the kernel to use updated packages.\n",
      "\n",
      "  Downloading playsound-1.3.0.tar.gz (7.7 kB)\n",
      "Building wheels for collected packages: playsound\n",
      "  Building wheel for playsound (setup.py): started\n",
      "  Building wheel for playsound (setup.py): finished with status 'done'\n",
      "  Created wheel for playsound: filename=playsound-1.3.0-py3-none-any.whl size=7030 sha256=218705dddce992996b473ae2c70763f79aa266645948b2d56fcf0768b07fe2a4\n",
      "  Stored in directory: c:\\users\\177110\\appdata\\local\\pip\\cache\\wheels\\73\\cd\\cf\\9750b618d54bd81c20e4c34fb24a423a5b095920367cdb3f71\n",
      "Successfully built playsound\n",
      "Installing collected packages: playsound\n",
      "Successfully installed playsound-1.3.0\n"
     ]
    }
   ],
   "source": [
    "pip install playsound"
   ]
  },
  {
   "cell_type": "markdown",
   "metadata": {},
   "source": [
    "# Importing Modules"
   ]
  },
  {
   "cell_type": "code",
   "execution_count": 86,
   "metadata": {},
   "outputs": [],
   "source": [
    "#import modules\n",
    "import pyttsx3\n",
    "import speech_recognition as sr\n",
    "import webbrowser\n",
    "import datetime\n",
    "import pyjokes\n",
    "import wikipedia\n",
    "import wolframalpha\n",
    "#import additional modules if needed\n",
    "import os\n",
    "import subprocess\n",
    "import time"
   ]
  },
  {
   "cell_type": "markdown",
   "metadata": {},
   "source": [
    "# Defining Functions"
   ]
  },
  {
   "cell_type": "code",
   "execution_count": 2,
   "metadata": {},
   "outputs": [],
   "source": [
    "#function for speech recognition\n",
    "def sptext():\n",
    "    recognizer=sr.Recognizer()\n",
    "    with sr.Microphone() as source:\n",
    "        print(\"Yes Master\")\n",
    "        recognizer.adjust_for_ambient_noise(source)\n",
    "        audio = recognizer.listen(source)\n",
    "        try:\n",
    "            print(\"Understood Master\")\n",
    "            data = recognizer.recognize_google(audio)\n",
    "            print(data)\n",
    "            return data\n",
    "        except sr.UnknownValueError:\n",
    "            print(\"Forgive me Master\")"
   ]
  },
  {
   "cell_type": "code",
   "execution_count": 7,
   "metadata": {
    "scrolled": true
   },
   "outputs": [
    {
     "name": "stdout",
     "output_type": "stream",
     "text": [
      "Yes Master\n",
      "Understood Master\n",
      "result2:\n",
      "{   'alternative': [   {   'confidence': 0.83372992,\n",
      "                           'transcript': 'gussa apni WhatsApp'},\n",
      "                       {'transcript': 'gussa apni Awaaz a rahi hai'},\n",
      "                       {'transcript': 'gussa apni'},\n",
      "                       {'transcript': 'WhatsApp'}],\n",
      "    'final': True}\n",
      "gussa apni WhatsApp\n"
     ]
    },
    {
     "data": {
      "text/plain": [
       "'gussa apni WhatsApp'"
      ]
     },
     "execution_count": 7,
     "metadata": {},
     "output_type": "execute_result"
    }
   ],
   "source": [
    "sptext()"
   ]
  },
  {
   "cell_type": "code",
   "execution_count": 3,
   "metadata": {},
   "outputs": [],
   "source": [
    "#text to speech\n",
    "def speechtx(x):\n",
    "    engine = pyttsx3.init()\n",
    "    voice = engine.getProperty('voices')\n",
    "    #engine.setProperty('voice',voices[0].id)\n",
    "    print(voice)\n",
    "    \n",
    "    rate = engine.setProperty('rate', 150)              #could use .getProperty but it also works with .setProperty\n",
    "    #engine.setProperty('rate', 150)\n",
    "    print(rate)\n",
    "    \n",
    "    \n",
    "    engine.say(x)\n",
    "    engine.runAndWait()"
   ]
  },
  {
   "cell_type": "code",
   "execution_count": 9,
   "metadata": {
    "scrolled": false
   },
   "outputs": [
    {
     "name": "stdout",
     "output_type": "stream",
     "text": [
      "[<pyttsx3.voice.Voice object at 0x00000186C261C280>]\n",
      "None\n"
     ]
    }
   ],
   "source": [
    "speechtx('Welcome Master')"
   ]
  },
  {
   "cell_type": "code",
   "execution_count": 81,
   "metadata": {},
   "outputs": [],
   "source": [
    "def yourname():\n",
    "    name = \"My name is Z\"\n",
    "    speechtx(name)\n",
    "    print(name)"
   ]
  },
  {
   "cell_type": "code",
   "execution_count": 13,
   "metadata": {
    "scrolled": true
   },
   "outputs": [
    {
     "name": "stdout",
     "output_type": "stream",
     "text": [
      "[<pyttsx3.voice.Voice object at 0x00000186C262D3A0>]\n",
      "None\n",
      "My name is Barney\n"
     ]
    }
   ],
   "source": [
    "yourname()"
   ]
  },
  {
   "cell_type": "code",
   "execution_count": 14,
   "metadata": {},
   "outputs": [],
   "source": [
    "def age():\n",
    "    age = \"I'm currently in developing stage but I will tell the age when I officially born\"\n",
    "    speechtx(age)\n",
    "    print(age)"
   ]
  },
  {
   "cell_type": "code",
   "execution_count": 15,
   "metadata": {},
   "outputs": [
    {
     "name": "stdout",
     "output_type": "stream",
     "text": [
      "[<pyttsx3.voice.Voice object at 0x00000186C0EFAE50>]\n",
      "None\n",
      "I'm currently in developing stage but I will tell the age when I officially born\n"
     ]
    }
   ],
   "source": [
    "age()"
   ]
  },
  {
   "cell_type": "code",
   "execution_count": 16,
   "metadata": {},
   "outputs": [],
   "source": [
    "def time():\n",
    "    time = datetime.datetime.now().strftime(\"%H %M\")\n",
    "    speechtx(time)\n",
    "    print(time)"
   ]
  },
  {
   "cell_type": "code",
   "execution_count": 17,
   "metadata": {},
   "outputs": [
    {
     "name": "stdout",
     "output_type": "stream",
     "text": [
      "[<pyttsx3.voice.Voice object at 0x00000186C262D310>]\n",
      "None\n",
      "14 50\n"
     ]
    }
   ],
   "source": [
    "time()"
   ]
  },
  {
   "cell_type": "code",
   "execution_count": 18,
   "metadata": {},
   "outputs": [],
   "source": [
    "def date():\n",
    "    date = datetime.datetime.now().strftime(\"Today's Date is %Y%B%d and the day is %A\")\n",
    "    speechtx(date)\n",
    "    print(date)"
   ]
  },
  {
   "cell_type": "code",
   "execution_count": 19,
   "metadata": {},
   "outputs": [
    {
     "name": "stdout",
     "output_type": "stream",
     "text": [
      "[<pyttsx3.voice.Voice object at 0x00000186C0EFA610>]\n",
      "None\n",
      "Today's Date is 2023March20 and the day is Monday\n"
     ]
    }
   ],
   "source": [
    "date()"
   ]
  },
  {
   "cell_type": "code",
   "execution_count": 20,
   "metadata": {},
   "outputs": [],
   "source": [
    "def Youtube():\n",
    "    speechtx(\"ok master opening YouTube\")\n",
    "    webbrowser.open(\"https://www.youtube.com/\")"
   ]
  },
  {
   "cell_type": "code",
   "execution_count": 21,
   "metadata": {},
   "outputs": [
    {
     "name": "stdout",
     "output_type": "stream",
     "text": [
      "[<pyttsx3.voice.Voice object at 0x00000186C262D490>]\n",
      "None\n"
     ]
    }
   ],
   "source": [
    "Youtube()"
   ]
  },
  {
   "cell_type": "code",
   "execution_count": 34,
   "metadata": {},
   "outputs": [],
   "source": [
    "def Wiki():\n",
    "    speechtx(\"What do you want to search for\")\n",
    "    query = sptext().lower()\n",
    "    query = query.split(' ') \n",
    "    query = \" \".join(query[0:])\n",
    "    speechtx(\"I am searching for \" + query)\n",
    "    print(wikipedia.summary(query, sentences = 3))\n",
    "    speechtx(wikipedia.summary(query, sentences = 3))"
   ]
  },
  {
   "cell_type": "code",
   "execution_count": 38,
   "metadata": {
    "scrolled": false
   },
   "outputs": [
    {
     "name": "stdout",
     "output_type": "stream",
     "text": [
      "[<pyttsx3.voice.Voice object at 0x00000186C29E2E50>]\n",
      "None\n",
      "Yes Master\n",
      "Understood Master\n",
      "result2:\n",
      "{   'alternative': [{'confidence': 0.72961849, 'transcript': 'movies'}],\n",
      "    'final': True}\n",
      "movies\n",
      "[<pyttsx3.voice.Voice object at 0x00000186C2E1C6A0>]\n",
      "None\n",
      "A film – also called a movie, motion picture, moving picture, picture, photoplay or (slang) flick – is a work of visual art that simulates experiences and otherwise communicates ideas, stories, perceptions, feelings, beauty, or atmosphere through the use of moving images. These images are generally accompanied by sound and, more rarely, other sensory stimulations. The word \"cinema\", short for cinematography, is often used to refer to filmmaking and the film industry, and to the art form that is the result of it.\n",
      "[<pyttsx3.voice.Voice object at 0x00000186C261C880>]\n",
      "None\n"
     ]
    }
   ],
   "source": [
    "Wiki()"
   ]
  },
  {
   "cell_type": "code",
   "execution_count": 5,
   "metadata": {},
   "outputs": [],
   "source": [
    "def song():\n",
    "    from playsound import playsound\n",
    "    playsound(\"C:\\\\Users\\\\177110\\\\Desktop\\\\sem 6\\\\self study\\\\file and stuff\\\\VA(Z)\\\\song.mp3\")"
   ]
  },
  {
   "cell_type": "code",
   "execution_count": 4,
   "metadata": {},
   "outputs": [],
   "source": [
    "song()"
   ]
  },
  {
   "cell_type": "code",
   "execution_count": 63,
   "metadata": {},
   "outputs": [],
   "source": [
    "def Browse():\n",
    "    speechtx(\"What to open\")\n",
    "    print(\"What to open\")\n",
    "    while True:\n",
    "        data2=sptext().lower()\n",
    "        x = data2\n",
    "        y = \"https://www.\"\n",
    "        print(\"please specify domain\")\n",
    "        speechtx(\"please specify domain\")\n",
    "        Q=sptext().lower()\n",
    "        print(Q)\n",
    "        if Q == '123':\n",
    "            print(\"what domain you want? \\nif you want: \\n.co.in say 123 \\n.org say 456 \\nanything else say 789\")\n",
    "            speechtx(\"what domain you want? \\nif you want: \\n.co.in say 123 \\n.org say 456 \\nanything else say 789\")\n",
    "            l=sptext().lower()\n",
    "            if l == '123':\n",
    "                a = \".co.in/\"\n",
    "            elif l == '456':\n",
    "                a = \".org\"\n",
    "            elif l == '789':\n",
    "                c = \".\"\n",
    "                speechtx(\"domain you want\")\n",
    "                b = sptext().lower()\n",
    "                a = c+str(b)\n",
    "            else:\n",
    "                print(\"please repeat\")\n",
    "        else:\n",
    "            print(\"please repeat\")\n",
    "\n",
    "        z = y+x+a\n",
    "        webbrowser.open(z)\n",
    "        print(\"Opening\", x)\n",
    "        break\n",
    "    print(\"thank you\")"
   ]
  },
  {
   "cell_type": "code",
   "execution_count": 65,
   "metadata": {},
   "outputs": [
    {
     "name": "stdout",
     "output_type": "stream",
     "text": [
      "[<pyttsx3.voice.Voice object at 0x00000186C2E440D0>]\n",
      "None\n",
      "What to open\n",
      "Yes Master\n",
      "Understood Master\n",
      "result2:\n",
      "{   'alternative': [{'confidence': 0.74970716, 'transcript': 'YouTube'}],\n",
      "    'final': True}\n",
      "YouTube\n",
      "please specify domain\n",
      "[<pyttsx3.voice.Voice object at 0x00000186C2E447C0>]\n",
      "None\n",
      "Yes Master\n",
      "Understood Master\n",
      "result2:\n",
      "{   'alternative': [{'confidence': 0.88687539, 'transcript': '123'}],\n",
      "    'final': True}\n",
      "123\n",
      "123\n",
      "what domain you want? \n",
      "if you want: \n",
      ".co.in say 123 \n",
      ".org say 456 \n",
      "anything else say 789\n",
      "[<pyttsx3.voice.Voice object at 0x00000186C2E44280>]\n",
      "None\n",
      "Yes Master\n",
      "Understood Master\n",
      "result2:\n",
      "{   'alternative': [{'confidence': 0.88687539, 'transcript': '123'}],\n",
      "    'final': True}\n",
      "123\n",
      "Opening youtube\n",
      "thank you\n"
     ]
    }
   ],
   "source": [
    "Browse()"
   ]
  },
  {
   "cell_type": "markdown",
   "metadata": {},
   "source": [
    "# Main Code"
   ]
  },
  {
   "cell_type": "code",
   "execution_count": 77,
   "metadata": {},
   "outputs": [
    {
     "name": "stdout",
     "output_type": "stream",
     "text": [
      "[<pyttsx3.voice.Voice object at 0x00000186C30281C0>]\n",
      "None\n",
      "Yes Master\n",
      "Understood Master\n",
      "result2:\n",
      "{   'alternative': [{'confidence': 0.88687539, 'transcript': 'test'}],\n",
      "    'final': True}\n",
      "test\n",
      "Good enough\n",
      "[<pyttsx3.voice.Voice object at 0x00000186C3028DF0>]\n",
      "None\n",
      "Yes Master\n",
      "Understood Master\n",
      "result2:\n",
      "{   'alternative': [   {   'confidence': 0.88687539,\n",
      "                           'transcript': 'open YouTube open YouTube'}],\n",
      "    'final': True}\n",
      "open YouTube open YouTube\n",
      "[<pyttsx3.voice.Voice object at 0x00000186C3028700>]\n",
      "None\n",
      "Yes Master\n",
      "Understood Master\n",
      "result2:\n",
      "{   'alternative': [{'confidence': 0.88687539, 'transcript': 'close'}],\n",
      "    'final': True}\n",
      "close\n",
      "[<pyttsx3.voice.Voice object at 0x00000186C3028F70>]\n",
      "None\n",
      "Thank You Master\n"
     ]
    }
   ],
   "source": [
    "if __name__ == '__main__':  \n",
    "    speechtx(\"Greetings\")\n",
    "    if sptext().lower() == \"test\":\n",
    "        print(\"Good enough\")\n",
    "        speechtx(\"Good enough\")\n",
    "        while True:\n",
    "            data1=sptext().lower()\n",
    "            if \"your name\" in data1:\n",
    "                yourname()\n",
    "            elif \"age\" in data1:\n",
    "                age()\n",
    "            elif 'time' in data1:\n",
    "                time()\n",
    "            elif 'date' in data1:\n",
    "                date()\n",
    "            elif 'open youtube' in data1:\n",
    "                Youtube()\n",
    "            elif 'open google' in data1:\n",
    "                speechtx(\"ok master opening google\")\n",
    "                webbrowser.open(\"https://www.google.co.in/\")    \n",
    "            elif 'Search' in data1:\n",
    "                Wiki()\n",
    "            elif 'play song' in data1:\n",
    "                song()  \n",
    "            elif 'open' in data1:\n",
    "                Browse()\n",
    "            elif 'close' in data1:\n",
    "                speechtx(\"Thank You Master\")\n",
    "                print(\"Thank You Master\")\n",
    "                break\n",
    "            else:\n",
    "                print(\"please repeat\")\n",
    "                speechtx(\"please repeat\")\n",
    "    else:\n",
    "        speechtx(\"F U Imposter\")\n",
    "        print(\"F U Imposter\")\n",
    "        "
   ]
  },
  {
   "cell_type": "markdown",
   "metadata": {},
   "source": [
    "# Making the main code as a function and then calling it"
   ]
  },
  {
   "cell_type": "code",
   "execution_count": 79,
   "metadata": {},
   "outputs": [],
   "source": [
    "'''def run():\n",
    "    if __name__ == '__main__':  \n",
    "        speechtx(\"Greetings\")\n",
    "        if sptext().lower() == \"test\":\n",
    "            print(\"Good enough\")\n",
    "            speechtx(\"Good enough\")\n",
    "            while True:\n",
    "                data1=sptext().lower()\n",
    "                if \"your name\" in data1:\n",
    "                    yourname()\n",
    "                elif \"age\" in data1:\n",
    "                    age()\n",
    "                elif 'time' in data1:\n",
    "                    time()\n",
    "                elif 'date' in data1:\n",
    "                    date()\n",
    "                elif 'open youtube' in data1:\n",
    "                    Youtube()\n",
    "                elif 'open google' in data1:\n",
    "                    speechtx(\"ok master opening google\")\n",
    "                    webbrowser.open(\"https://www.google.co.in/\")    \n",
    "                elif 'Search' in data1:\n",
    "                    Wiki()\n",
    "                elif 'play song' in data1:\n",
    "                    song()  \n",
    "                elif 'open' in data1:\n",
    "                    Browse()\n",
    "                elif 'close' in data1:\n",
    "                    speechtx(\"Thank You Master\")\n",
    "                    print(\"Thank You Master\")\n",
    "                    break\n",
    "                else:\n",
    "                    print(\"please repeat\")\n",
    "                    speechtx(\"please repeat\")\n",
    "        else:\n",
    "            speechtx(\"F U Imposter\")\n",
    "            print(\"F U Imposter\")'''"
   ]
  },
  {
   "cell_type": "code",
   "execution_count": 84,
   "metadata": {},
   "outputs": [
    {
     "name": "stdout",
     "output_type": "stream",
     "text": [
      "[<pyttsx3.voice.Voice object at 0x00000186C302A5B0>]\n",
      "None\n",
      "Yes Master\n",
      "Understood Master\n",
      "result2:\n",
      "{   'alternative': [{'confidence': 0.85070771, 'transcript': 'test'}],\n",
      "    'final': True}\n",
      "test\n",
      "Good enough\n",
      "[<pyttsx3.voice.Voice object at 0x00000186C2E442E0>]\n",
      "None\n",
      "Yes Master\n",
      "Understood Master\n",
      "result2:\n",
      "{   'alternative': [   {   'confidence': 0.88687539,\n",
      "                           'transcript': 'what is your age'}],\n",
      "    'final': True}\n",
      "what is your age\n",
      "[<pyttsx3.voice.Voice object at 0x00000186C302AA00>]\n",
      "None\n",
      "I'm currently in developing stage but I will tell the age when I officially born\n",
      "Yes Master\n",
      "Understood Master\n",
      "result2:\n",
      "{   'alternative': [{'confidence': 0.84414643, 'transcript': 'close'}],\n",
      "    'final': True}\n",
      "close\n",
      "[<pyttsx3.voice.Voice object at 0x00000186C2E44EE0>]\n",
      "None\n",
      "Thank You Master\n"
     ]
    }
   ],
   "source": [
    "'''run()'''"
   ]
  }
 ],
 "metadata": {
  "kernelspec": {
   "display_name": "Python 3",
   "language": "python",
   "name": "python3"
  },
  "language_info": {
   "codemirror_mode": {
    "name": "ipython",
    "version": 3
   },
   "file_extension": ".py",
   "mimetype": "text/x-python",
   "name": "python",
   "nbconvert_exporter": "python",
   "pygments_lexer": "ipython3",
   "version": "3.8.5"
  }
 },
 "nbformat": 4,
 "nbformat_minor": 4
}
