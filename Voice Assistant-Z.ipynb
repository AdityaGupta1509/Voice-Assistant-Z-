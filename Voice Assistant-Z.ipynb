{
 "cells": [
  {
   "cell_type": "markdown",
   "metadata": {},
   "source": [
    "# Installed API's"
   ]
  },
  {
   "cell_type": "code",
   "execution_count": 1,
   "metadata": {
    "scrolled": true
   },
   "outputs": [
    {
     "name": "stdout",
     "output_type": "stream",
     "text": [
      "Requirement already satisfied: pyttsx3 in e:\\phython\\lib\\site-packages (2.90)\n",
      "Requirement already satisfied: comtypes; platform_system == \"Windows\" in e:\\phython\\lib\\site-packages (from pyttsx3) (1.1.7)\n",
      "Requirement already satisfied: pywin32; platform_system == \"Windows\" in e:\\phython\\lib\\site-packages (from pyttsx3) (227)\n",
      "Requirement already satisfied: pypiwin32; platform_system == \"Windows\" in e:\\phython\\lib\\site-packages (from pyttsx3) (223)\n",
      "Note: you may need to restart the kernel to use updated packages.\n"
     ]
    }
   ],
   "source": [
    "pip install pyttsx3"
   ]
  },
  {
   "cell_type": "code",
   "execution_count": 2,
   "metadata": {},
   "outputs": [
    {
     "name": "stdout",
     "output_type": "stream",
     "text": [
      "Requirement already satisfied: gTTS in e:\\phython\\lib\\site-packages (2.3.1)\n",
      "Requirement already satisfied: click<8.2,>=7.1 in e:\\phython\\lib\\site-packages (from gTTS) (7.1.2)\n",
      "Requirement already satisfied: requests<3,>=2.27 in e:\\phython\\lib\\site-packages (from gTTS) (2.28.2)\n",
      "Requirement already satisfied: urllib3<1.27,>=1.21.1 in e:\\phython\\lib\\site-packages (from requests<3,>=2.27->gTTS) (1.25.11)\n",
      "Requirement already satisfied: charset-normalizer<4,>=2 in e:\\phython\\lib\\site-packages (from requests<3,>=2.27->gTTS) (3.0.1)\n",
      "Requirement already satisfied: idna<4,>=2.5 in e:\\phython\\lib\\site-packages (from requests<3,>=2.27->gTTS) (2.10)\n",
      "Requirement already satisfied: certifi>=2017.4.17 in e:\\phython\\lib\\site-packages (from requests<3,>=2.27->gTTS) (2020.6.20)\n",
      "Note: you may need to restart the kernel to use updated packages.\n"
     ]
    }
   ],
   "source": [
    "pip install gTTS"
   ]
  },
  {
   "cell_type": "code",
   "execution_count": 3,
   "metadata": {
    "scrolled": true
   },
   "outputs": [
    {
     "name": "stdout",
     "output_type": "stream",
     "text": [
      "Requirement already satisfied: SpeechRecognition in e:\\phython\\lib\\site-packages (3.9.0)\n",
      "Requirement already satisfied: requests>=2.26.0 in e:\\phython\\lib\\site-packages (from SpeechRecognition) (2.28.2)\n",
      "Requirement already satisfied: idna<4,>=2.5 in e:\\phython\\lib\\site-packages (from requests>=2.26.0->SpeechRecognition) (2.10)\n",
      "Requirement already satisfied: certifi>=2017.4.17 in e:\\phython\\lib\\site-packages (from requests>=2.26.0->SpeechRecognition) (2020.6.20)\n",
      "Requirement already satisfied: urllib3<1.27,>=1.21.1 in e:\\phython\\lib\\site-packages (from requests>=2.26.0->SpeechRecognition) (1.25.11)\n",
      "Requirement already satisfied: charset-normalizer<4,>=2 in e:\\phython\\lib\\site-packages (from requests>=2.26.0->SpeechRecognition) (3.0.1)\n",
      "Note: you may need to restart the kernel to use updated packages.\n"
     ]
    }
   ],
   "source": [
    "pip install SpeechRecognition"
   ]
  },
  {
   "cell_type": "code",
   "execution_count": 4,
   "metadata": {
    "scrolled": true
   },
   "outputs": [
    {
     "name": "stdout",
     "output_type": "stream",
     "text": [
      "Requirement already satisfied: pyjokes in e:\\phython\\lib\\site-packages (0.6.0)\n",
      "Note: you may need to restart the kernel to use updated packages.\n"
     ]
    }
   ],
   "source": [
    "pip install pyjokes"
   ]
  },
  {
   "cell_type": "code",
   "execution_count": 5,
   "metadata": {},
   "outputs": [
    {
     "name": "stdout",
     "output_type": "stream",
     "text": [
      "Requirement already satisfied: PyAudio in e:\\phython\\lib\\site-packages (0.2.13)\n",
      "Note: you may need to restart the kernel to use updated packages.\n"
     ]
    }
   ],
   "source": [
    "pip install PyAudio"
   ]
  },
  {
   "cell_type": "code",
   "execution_count": 6,
   "metadata": {},
   "outputs": [
    {
     "name": "stdout",
     "output_type": "stream",
     "text": [
      "Requirement already satisfied: python-vlc in e:\\phython\\lib\\site-packages (3.0.18121)Note: you may need to restart the kernel to use updated packages.\n",
      "\n"
     ]
    }
   ],
   "source": [
    "pip install python-vlc"
   ]
  },
  {
   "cell_type": "code",
   "execution_count": 7,
   "metadata": {},
   "outputs": [
    {
     "name": "stdout",
     "output_type": "stream",
     "text": [
      "Requirement already satisfied: pyautogui in e:\\phython\\lib\\site-packages (0.9.53)\n",
      "Requirement already satisfied: pymsgbox in e:\\phython\\lib\\site-packages (from pyautogui) (1.0.9)\n",
      "Requirement already satisfied: pygetwindow>=0.0.5 in e:\\phython\\lib\\site-packages (from pyautogui) (0.0.9)\n",
      "Requirement already satisfied: pyscreeze>=0.1.21 in e:\\phython\\lib\\site-packages (from pyautogui) (0.1.28)\n",
      "Requirement already satisfied: PyTweening>=1.0.1 in e:\\phython\\lib\\site-packages (from pyautogui) (1.0.4)\n",
      "Requirement already satisfied: mouseinfo in e:\\phython\\lib\\site-packages (from pyautogui) (0.1.3)\n",
      "Requirement already satisfied: pyrect in e:\\phython\\lib\\site-packages (from pygetwindow>=0.0.5->pyautogui) (0.2.0)\n",
      "Requirement already satisfied: Pillow>=6.2.1; python_version == \"3.8\" in e:\\phython\\lib\\site-packages (from pyscreeze>=0.1.21->pyautogui) (8.0.1)\n",
      "Requirement already satisfied: pyperclip in e:\\phython\\lib\\site-packages (from mouseinfo->pyautogui) (1.8.2)\n",
      "Note: you may need to restart the kernel to use updated packages.\n"
     ]
    }
   ],
   "source": [
    "pip install pyautogui"
   ]
  },
  {
   "cell_type": "code",
   "execution_count": 8,
   "metadata": {},
   "outputs": [
    {
     "name": "stdout",
     "output_type": "stream",
     "text": [
      "Requirement already satisfied: pydub in e:\\phython\\lib\\site-packages (0.25.1)\n",
      "Note: you may need to restart the kernel to use updated packages.\n"
     ]
    }
   ],
   "source": [
    "pip install pydub"
   ]
  },
  {
   "cell_type": "code",
   "execution_count": 1,
   "metadata": {
    "scrolled": true
   },
   "outputs": [
    {
     "name": "stdout",
     "output_type": "stream",
     "text": [
      "Requirement already satisfied: wikipedia in e:\\phython\\lib\\site-packages (1.4.0)\n",
      "Requirement already satisfied: requests<3.0.0,>=2.0.0 in e:\\phython\\lib\\site-packages (from wikipedia) (2.28.2)\n",
      "Requirement already satisfied: beautifulsoup4 in e:\\phython\\lib\\site-packages (from wikipedia) (4.9.3)\n",
      "Requirement already satisfied: urllib3<1.27,>=1.21.1 in e:\\phython\\lib\\site-packages (from requests<3.0.0,>=2.0.0->wikipedia) (1.25.11)\n",
      "Requirement already satisfied: charset-normalizer<4,>=2 in e:\\phython\\lib\\site-packages (from requests<3.0.0,>=2.0.0->wikipedia) (3.0.1)\n",
      "Requirement already satisfied: certifi>=2017.4.17 in e:\\phython\\lib\\site-packages (from requests<3.0.0,>=2.0.0->wikipedia) (2020.6.20)\n",
      "Requirement already satisfied: idna<4,>=2.5 in e:\\phython\\lib\\site-packages (from requests<3.0.0,>=2.0.0->wikipedia) (2.10)\n",
      "Requirement already satisfied: soupsieve>1.2; python_version >= \"3.0\" in e:\\phython\\lib\\site-packages (from beautifulsoup4->wikipedia) (2.0.1)\n",
      "Note: you may need to restart the kernel to use updated packages.\n"
     ]
    }
   ],
   "source": [
    "pip install wikipedia"
   ]
  },
  {
   "cell_type": "code",
   "execution_count": 40,
   "metadata": {
    "scrolled": true
   },
   "outputs": [
    {
     "name": "stdout",
     "output_type": "stream",
     "text": [
      "Collecting playsoundNote: you may need to restart the kernel to use updated packages.\n",
      "\n",
      "  Downloading playsound-1.3.0.tar.gz (7.7 kB)\n",
      "Building wheels for collected packages: playsound\n",
      "  Building wheel for playsound (setup.py): started\n",
      "  Building wheel for playsound (setup.py): finished with status 'done'\n",
      "  Created wheel for playsound: filename=playsound-1.3.0-py3-none-any.whl size=7030 sha256=218705dddce992996b473ae2c70763f79aa266645948b2d56fcf0768b07fe2a4\n",
      "  Stored in directory: c:\\users\\177110\\appdata\\local\\pip\\cache\\wheels\\73\\cd\\cf\\9750b618d54bd81c20e4c34fb24a423a5b095920367cdb3f71\n",
      "Successfully built playsound\n",
      "Installing collected packages: playsound\n",
      "Successfully installed playsound-1.3.0\n"
     ]
    }
   ],
   "source": [
    "pip install playsound"
   ]
  },
  {
   "cell_type": "code",
   "execution_count": 88,
   "metadata": {},
   "outputs": [
    {
     "name": "stdout",
     "output_type": "stream",
     "text": [
      "Requirement already satisfied: wolframalpha in e:\\phython\\lib\\site-packages (5.0.0)\n",
      "Requirement already satisfied: xmltodict in e:\\phython\\lib\\site-packages (from wolframalpha) (0.12.0)\n",
      "Requirement already satisfied: more-itertools in e:\\phython\\lib\\site-packages (from wolframalpha) (8.6.0)\n",
      "Requirement already satisfied: jaraco.context in e:\\phython\\lib\\site-packages (from wolframalpha) (4.3.0)\n",
      "Note: you may need to restart the kernel to use updated packages.\n"
     ]
    }
   ],
   "source": [
    "pip install wolframalpha"
   ]
  },
  {
   "cell_type": "markdown",
   "metadata": {},
   "source": [
    "# Importing Modules"
   ]
  },
  {
   "cell_type": "code",
   "execution_count": 1,
   "metadata": {},
   "outputs": [],
   "source": [
    "#import modules\n",
    "import pyttsx3\n",
    "import speech_recognition as sr\n",
    "import webbrowser\n",
    "import datetime\n",
    "import pyjokes\n",
    "import wikipedia\n",
    "import wolframalpha\n",
    "#import additional modules if needed\n",
    "import os\n",
    "import subprocess\n",
    "import time"
   ]
  },
  {
   "cell_type": "markdown",
   "metadata": {},
   "source": [
    "# Defining Functions"
   ]
  },
  {
   "cell_type": "markdown",
   "metadata": {},
   "source": [
    "## Reply and Listen Function:"
   ]
  },
  {
   "cell_type": "code",
   "execution_count": 2,
   "metadata": {},
   "outputs": [],
   "source": [
    "#function for speech recognition\n",
    "def sptext():\n",
    "    recognizer=sr.Recognizer()\n",
    "    with sr.Microphone() as source:\n",
    "        print(\"Yes Master\")\n",
    "        recognizer.adjust_for_ambient_noise(source)\n",
    "        audio = recognizer.listen(source)\n",
    "        try:\n",
    "            print(\"Understood Master\")\n",
    "            data = recognizer.recognize_google(audio)\n",
    "            print(data)\n",
    "            return data\n",
    "        except sr.UnknownValueError:\n",
    "            print(\"Forgive me Master\")"
   ]
  },
  {
   "cell_type": "code",
   "execution_count": 3,
   "metadata": {
    "scrolled": true
   },
   "outputs": [
    {
     "name": "stdout",
     "output_type": "stream",
     "text": [
      "Yes Master\n",
      "Understood Master\n",
      "result2:\n",
      "{   'alternative': [   {'confidence': 0.88687539, 'transcript': '123'},\n",
      "                       {'transcript': '1-2-3'},\n",
      "                       {'transcript': '1-23'},\n",
      "                       {'transcript': '12-3'},\n",
      "                       {'transcript': '-123'}],\n",
      "    'final': True}\n",
      "123\n"
     ]
    },
    {
     "data": {
      "text/plain": [
       "'123'"
      ]
     },
     "execution_count": 3,
     "metadata": {},
     "output_type": "execute_result"
    }
   ],
   "source": [
    "sptext()"
   ]
  },
  {
   "cell_type": "code",
   "execution_count": 4,
   "metadata": {},
   "outputs": [],
   "source": [
    "#text to speech\n",
    "def speechtx(x):\n",
    "    engine = pyttsx3.init()\n",
    "    voice = engine.getProperty('voices')\n",
    "    #engine.setProperty('voice',voices[0].id)\n",
    "    print(voice)\n",
    "    \n",
    "    rate = engine.setProperty('rate', 150)              #could use .getProperty but it also works with .setProperty\n",
    "    #engine.setProperty('rate', 150)\n",
    "    print(rate)\n",
    "    \n",
    "    \n",
    "    engine.say(x)\n",
    "    engine.runAndWait()"
   ]
  },
  {
   "cell_type": "code",
   "execution_count": 5,
   "metadata": {
    "scrolled": false
   },
   "outputs": [
    {
     "name": "stdout",
     "output_type": "stream",
     "text": [
      "[<pyttsx3.voice.Voice object at 0x00000241B5166FD0>]\n",
      "None\n"
     ]
    }
   ],
   "source": [
    "speechtx('Welcome Master')"
   ]
  },
  {
   "cell_type": "markdown",
   "metadata": {},
   "source": [
    "## Introduction for Z:"
   ]
  },
  {
   "cell_type": "code",
   "execution_count": 6,
   "metadata": {},
   "outputs": [],
   "source": [
    "def yourname():\n",
    "    name = \"My name is Z\"\n",
    "    speechtx(name)\n",
    "    print(name)"
   ]
  },
  {
   "cell_type": "code",
   "execution_count": 7,
   "metadata": {
    "scrolled": true
   },
   "outputs": [
    {
     "name": "stdout",
     "output_type": "stream",
     "text": [
      "[<pyttsx3.voice.Voice object at 0x00000241B3347E20>]\n",
      "None\n",
      "My name is Z\n"
     ]
    }
   ],
   "source": [
    "yourname()"
   ]
  },
  {
   "cell_type": "code",
   "execution_count": 8,
   "metadata": {},
   "outputs": [],
   "source": [
    "def age():\n",
    "    age = \"I'm currently in developing stage but I will tell the age when I officially born\"\n",
    "    speechtx(age)\n",
    "    print(age)"
   ]
  },
  {
   "cell_type": "code",
   "execution_count": 9,
   "metadata": {
    "scrolled": true
   },
   "outputs": [
    {
     "name": "stdout",
     "output_type": "stream",
     "text": [
      "[<pyttsx3.voice.Voice object at 0x00000241B3651190>]\n",
      "None\n",
      "I'm currently in developing stage but I will tell the age when I officially born\n"
     ]
    }
   ],
   "source": [
    "age()"
   ]
  },
  {
   "cell_type": "markdown",
   "metadata": {},
   "source": [
    "## Date and Time:"
   ]
  },
  {
   "cell_type": "code",
   "execution_count": 10,
   "metadata": {},
   "outputs": [],
   "source": [
    "def time():\n",
    "    time = datetime.datetime.now().strftime(\"%H %M\")\n",
    "    speechtx(time)\n",
    "    print(time)"
   ]
  },
  {
   "cell_type": "code",
   "execution_count": 11,
   "metadata": {},
   "outputs": [
    {
     "name": "stdout",
     "output_type": "stream",
     "text": [
      "[<pyttsx3.voice.Voice object at 0x00000241B3347580>]\n",
      "None\n",
      "16 23\n"
     ]
    }
   ],
   "source": [
    "time()"
   ]
  },
  {
   "cell_type": "code",
   "execution_count": 15,
   "metadata": {},
   "outputs": [],
   "source": [
    "def date():\n",
    "    date = datetime.datetime.now().strftime(\"Today's Date is %Y %B %d and the day is %A\")\n",
    "    speechtx(date)\n",
    "    print(date)"
   ]
  },
  {
   "cell_type": "code",
   "execution_count": 16,
   "metadata": {
    "scrolled": false
   },
   "outputs": [
    {
     "name": "stdout",
     "output_type": "stream",
     "text": [
      "[<pyttsx3.voice.Voice object at 0x00000241B518E2E0>]\n",
      "None\n",
      "Today's Date is 2023 July 10 and the day is Monday\n"
     ]
    }
   ],
   "source": [
    "date()"
   ]
  },
  {
   "cell_type": "markdown",
   "metadata": {},
   "source": [
    "## Opening the Websites:"
   ]
  },
  {
   "cell_type": "code",
   "execution_count": 17,
   "metadata": {},
   "outputs": [],
   "source": [
    "def Youtube():\n",
    "    speechtx(\"ok master opening YouTube\")\n",
    "    webbrowser.open(\"https://www.youtube.com/\")"
   ]
  },
  {
   "cell_type": "code",
   "execution_count": 18,
   "metadata": {},
   "outputs": [
    {
     "name": "stdout",
     "output_type": "stream",
     "text": [
      "[<pyttsx3.voice.Voice object at 0x00000241B33405E0>]\n",
      "None\n"
     ]
    }
   ],
   "source": [
    "Youtube()"
   ]
  },
  {
   "cell_type": "code",
   "execution_count": 31,
   "metadata": {},
   "outputs": [],
   "source": [
    "def Browse():\n",
    "    speechtx(\"What to open\")\n",
    "    print(\"What to open\")\n",
    "    while True:\n",
    "        data2=sptext().lower()\n",
    "        x = data2\n",
    "        y = \"https://www.\"\n",
    "        print(\"please specify domain, say 1 to continue\")\n",
    "        speechtx(\"please specify domain, say 1 to continue\")\n",
    "        Q=sptext().lower()\n",
    "        print(Q)\n",
    "        if Q == '1':\n",
    "            print(\"what domain you want? \\nif you want: \\n.co.in say 123 \\n.org say 456 \\nanything else say 789\")\n",
    "            speechtx(\"what domain you want? \\nif you want: \\n.co.in say 123 \\n.org say 456 \\nanything else say 789\")\n",
    "            l=sptext().lower()\n",
    "            if l == '123':\n",
    "                a = \".co.in/\"\n",
    "            elif l == '456':\n",
    "                a = \".org\"\n",
    "            elif l == '789':\n",
    "                c = \".\"\n",
    "                speechtx(\"domain you want\")\n",
    "                b = sptext().lower()\n",
    "                a = c+str(b)\n",
    "            else:\n",
    "                print(\"please repeat\")\n",
    "        else:\n",
    "            print(\"please repeat\")\n",
    "\n",
    "        z = y+x+a\n",
    "        webbrowser.open(z)\n",
    "        print(\"Opening\", x)\n",
    "        break\n",
    "    print(\"thank you\")"
   ]
  },
  {
   "cell_type": "code",
   "execution_count": 30,
   "metadata": {},
   "outputs": [
    {
     "name": "stdout",
     "output_type": "stream",
     "text": [
      "[<pyttsx3.voice.Voice object at 0x00000241B518E190>]\n",
      "None\n",
      "What to open\n",
      "Yes Master\n",
      "Understood Master\n",
      "result2:\n",
      "{   'alternative': [   {'confidence': 0.88687539, 'transcript': 'Google'},\n",
      "                       {'transcript': 'gugal'},\n",
      "                       {'transcript': 'googol'},\n",
      "                       {'transcript': 'Guggal'},\n",
      "                       {'transcript': 'googal'}],\n",
      "    'final': True}\n",
      "Google\n",
      "please specify domain\n",
      "[<pyttsx3.voice.Voice object at 0x00000241B552E850>]\n",
      "None\n",
      "Yes Master\n",
      "Understood Master\n",
      "result2:\n",
      "{   'alternative': [   {'confidence': 0.88687539, 'transcript': '123'},\n",
      "                       {'transcript': '1-2-3'},\n",
      "                       {'transcript': '1-23'},\n",
      "                       {'transcript': '12-3'},\n",
      "                       {'transcript': '-123'}],\n",
      "    'final': True}\n",
      "123\n",
      "123\n",
      "what domain you want? \n",
      "if you want: \n",
      ".co.in say 123 \n",
      ".org say 456 \n",
      "anything else say 789\n",
      "[<pyttsx3.voice.Voice object at 0x00000241B552EA60>]\n",
      "None\n",
      "Yes Master\n",
      "Understood Master\n",
      "result2:\n",
      "{   'alternative': [   {'confidence': 0.88687539, 'transcript': '123'},\n",
      "                       {'transcript': '1-2-3'},\n",
      "                       {'transcript': '1-23'},\n",
      "                       {'transcript': '12-3'},\n",
      "                       {'transcript': '-123'}],\n",
      "    'final': True}\n",
      "123\n",
      "Opening google\n",
      "thank you\n"
     ]
    }
   ],
   "source": [
    "Browse()"
   ]
  },
  {
   "cell_type": "markdown",
   "metadata": {},
   "source": [
    "## Get results from net:"
   ]
  },
  {
   "cell_type": "code",
   "execution_count": 20,
   "metadata": {},
   "outputs": [],
   "source": [
    "def Wiki():\n",
    "    speechtx(\"What do you want to search for\")\n",
    "    query = sptext().lower()\n",
    "    query = query.split(' ') \n",
    "    query = \" \".join(query[0:])\n",
    "    speechtx(\"I am searching for \" + query)\n",
    "    print(wikipedia.summary(query, sentences = 3))\n",
    "    speechtx(wikipedia.summary(query, sentences = 3))"
   ]
  },
  {
   "cell_type": "code",
   "execution_count": 38,
   "metadata": {
    "scrolled": false
   },
   "outputs": [
    {
     "name": "stdout",
     "output_type": "stream",
     "text": [
      "[<pyttsx3.voice.Voice object at 0x00000186C29E2E50>]\n",
      "None\n",
      "Yes Master\n",
      "Understood Master\n",
      "result2:\n",
      "{   'alternative': [{'confidence': 0.72961849, 'transcript': 'movies'}],\n",
      "    'final': True}\n",
      "movies\n",
      "[<pyttsx3.voice.Voice object at 0x00000186C2E1C6A0>]\n",
      "None\n",
      "A film – also called a movie, motion picture, moving picture, picture, photoplay or (slang) flick – is a work of visual art that simulates experiences and otherwise communicates ideas, stories, perceptions, feelings, beauty, or atmosphere through the use of moving images. These images are generally accompanied by sound and, more rarely, other sensory stimulations. The word \"cinema\", short for cinematography, is often used to refer to filmmaking and the film industry, and to the art form that is the result of it.\n",
      "[<pyttsx3.voice.Voice object at 0x00000186C261C880>]\n",
      "None\n"
     ]
    }
   ],
   "source": [
    "Wiki()"
   ]
  },
  {
   "cell_type": "code",
   "execution_count": 94,
   "metadata": {},
   "outputs": [],
   "source": [
    "def wolfram():\n",
    "    speechtx(\"What is your question?\")\n",
    "    data2=sptext().lower()\n",
    "    x = data2\n",
    "    print(f\"ok searching for the solution of this question {x}\")\n",
    "    speechtx(f\"ok searching for the solution of this question {x}\")\n",
    "    app_id = 'your ID'                                                          #Enter your wolfram app id instead of \"your ID\"\n",
    "    client = wolframalpha.Client(app_id)\n",
    "    res = client.query(x)\n",
    "    answer = next(res.results).text\n",
    "    print(answer)\n",
    "    speechtx(answer)"
   ]
  },
  {
   "cell_type": "code",
   "execution_count": 95,
   "metadata": {},
   "outputs": [
    {
     "name": "stdout",
     "output_type": "stream",
     "text": [
      "[<pyttsx3.voice.Voice object at 0x00000241B5509F10>]\n",
      "None\n",
      "Yes Master\n",
      "Understood Master\n",
      "result2:\n",
      "{   'alternative': [   {   'confidence': 0.88687533,\n",
      "                           'transcript': 'what is the capital of India'},\n",
      "                       {'transcript': 'what is the capitol of India'},\n",
      "                       {'transcript': 'what is the capital of indiya'},\n",
      "                       {'transcript': 'what is the capital of indea'},\n",
      "                       {'transcript': 'what is the capital 0f India'}],\n",
      "    'final': True}\n",
      "what is the capital of India\n",
      "ok searching for the solution of this question what is the capital of india\n",
      "[<pyttsx3.voice.Voice object at 0x00000241B5B4BB80>]\n",
      "None\n",
      "New Delhi, Delhi, India\n",
      "[<pyttsx3.voice.Voice object at 0x00000241B517BB20>]\n",
      "None\n"
     ]
    }
   ],
   "source": [
    "wolfram()"
   ]
  },
  {
   "cell_type": "markdown",
   "metadata": {},
   "source": [
    "## Get files from computer:"
   ]
  },
  {
   "cell_type": "code",
   "execution_count": 21,
   "metadata": {},
   "outputs": [],
   "source": [
    "def song():\n",
    "    from playsound import playsound\n",
    "    playsound(r\"XYZ\")                                                          #Enter file path instead of \"XYZ\""
   ]
  },
  {
   "cell_type": "code",
   "execution_count": 45,
   "metadata": {},
   "outputs": [],
   "source": [
    "song()"
   ]
  },
  {
   "cell_type": "code",
   "execution_count": 86,
   "metadata": {},
   "outputs": [],
   "source": [
    "#Main line of code:\n",
    "#file1 = os.startfile(r\"Code to open random file or folder\" )\n",
    "def openfile():\n",
    "    print(\"please tell drive name:\")\n",
    "    speechtx(\"please tell drive name:\")\n",
    "    d2=sptext().lower()\n",
    "    x = d2\n",
    "    y=x+\":\"\n",
    "    c=\"\"\n",
    "    while True:\n",
    "        print(\"enter folder or file name\")\n",
    "        speechtx(\"enter folder or file name\")\n",
    "        data2=sptext().lower()\n",
    "        a = data2\n",
    "        print(f\"is this the word you said {a}\")\n",
    "        speechtx(f\"is this the word you said {a}\")\n",
    "        print(\"if yes say yes, if want to end say done, and if enetered value is wrong say anything you want to repeat\")\n",
    "        speechtx(\"if yes say yes, if want to end say done, and if enetered value is wrong say anything you want to repeat\")\n",
    "        Q=sptext().lower()\n",
    "        print(Q)\n",
    "        if Q =='yes':\n",
    "            b=a+\"\\\\\"\n",
    "            c=c+b\n",
    "            print(c)\n",
    "        elif Q=='done':\n",
    "            b=a\n",
    "            c=c+b\n",
    "            print(c)\n",
    "            break\n",
    "        else:\n",
    "            pass\n",
    "    loc=y+c\n",
    "    print(loc)\n",
    "    openfile=os.startfile(loc)"
   ]
  },
  {
   "cell_type": "code",
   "execution_count": 87,
   "metadata": {
    "scrolled": true
   },
   "outputs": [
    {
     "name": "stdout",
     "output_type": "stream",
     "text": [
      "please tell drive name:\n",
      "[<pyttsx3.voice.Voice object at 0x00000241B5B2C6D0>]\n",
      "None\n",
      "Yes Master\n",
      "Understood Master\n",
      "result2:\n",
      "{   'alternative': [   {'confidence': 0.88687539, 'transcript': '12'},\n",
      "                       {'transcript': '1-2'},\n",
      "                       {'transcript': '-12'}],\n",
      "    'final': True}\n",
      "12\n",
      "enter folder or file name\n",
      "[<pyttsx3.voice.Voice object at 0x00000241B5B2C8E0>]\n",
      "None\n",
      "Yes Master\n",
      "Understood Master\n",
      "result2:\n",
      "{   'alternative': [   {'confidence': 0.88687539, 'transcript': 'hello one'},\n",
      "                       {'transcript': 'hello 1'},\n",
      "                       {'transcript': 'Helo one'},\n",
      "                       {'transcript': 'hello won'},\n",
      "                       {'transcript': 'Helo 1'}],\n",
      "    'final': True}\n",
      "hello one\n",
      "is this the word you said hello one\n",
      "[<pyttsx3.voice.Voice object at 0x00000241B5B2C0D0>]\n",
      "None\n",
      "if yes say yes, if want to end say done, and if enetered value is wrong say anything you want to repeat\n",
      "[<pyttsx3.voice.Voice object at 0x00000241B5B2CEE0>]\n",
      "None\n",
      "Yes Master\n",
      "Understood Master\n",
      "result2:\n",
      "{   'alternative': [   {'confidence': 0.83351088, 'transcript': 'done'},\n",
      "                       {'transcript': 'Dun'},\n",
      "                       {'transcript': 'Doon'},\n",
      "                       {'transcript': 'Dunn'},\n",
      "                       {'transcript': 'donne'}],\n",
      "    'final': True}\n",
      "done\n",
      "done\n",
      "hello one\n",
      "12:hello one\n"
     ]
    }
   ],
   "source": [
    "openfile()"
   ]
  },
  {
   "cell_type": "markdown",
   "metadata": {},
   "source": [
    "# Main Code"
   ]
  },
  {
   "cell_type": "code",
   "execution_count": 96,
   "metadata": {},
   "outputs": [
    {
     "name": "stdout",
     "output_type": "stream",
     "text": [
      "[<pyttsx3.voice.Voice object at 0x00000241B4C3B910>]\n",
      "None\n",
      "tell password to verify yourself\n",
      "[<pyttsx3.voice.Voice object at 0x00000241B5B2C490>]\n",
      "None\n",
      "Yes Master\n",
      "Understood Master\n",
      "result2:\n",
      "{   'alternative': [{'confidence': 0.88687539, 'transcript': 'test'}],\n",
      "    'final': True}\n",
      "test\n",
      "Good enough\n",
      "[<pyttsx3.voice.Voice object at 0x00000241B552EB50>]\n",
      "None\n",
      "Yes Master\n",
      "Understood Master\n",
      "result2:\n",
      "{   'alternative': [{'confidence': 0.88687539, 'transcript': 'tell me'}],\n",
      "    'final': True}\n",
      "tell me\n",
      "[<pyttsx3.voice.Voice object at 0x00000241B5B2C100>]\n",
      "None\n",
      "Yes Master\n",
      "Understood Master\n",
      "result2:\n",
      "{   'alternative': [   {   'confidence': 0.88687533,\n",
      "                           'transcript': 'what is 8 times 12'},\n",
      "                       {'transcript': 'what is 8 times -12'},\n",
      "                       {'transcript': 'what is 8 times 1-2'},\n",
      "                       {'transcript': \"what is 8 time's 12\"},\n",
      "                       {'transcript': 'what is 8 thymus 12'}],\n",
      "    'final': True}\n",
      "what is 8 times 12\n",
      "ok searching for the solution of this question what is 8 times 12\n",
      "[<pyttsx3.voice.Voice object at 0x00000241B552EE80>]\n",
      "None\n",
      "96\n",
      "[<pyttsx3.voice.Voice object at 0x00000241B5B2C340>]\n",
      "None\n",
      "Yes Master\n",
      "Understood Master\n",
      "result2:\n",
      "{   'alternative': [   {'confidence': 0.8696357, 'transcript': 'close'},\n",
      "                       {'transcript': 'closed'},\n",
      "                       {'transcript': 'clause'},\n",
      "                       {'transcript': 'klose'},\n",
      "                       {'transcript': 'cloze'}],\n",
      "    'final': True}\n",
      "close\n",
      "[<pyttsx3.voice.Voice object at 0x00000241B552E130>]\n",
      "None\n",
      "Thank You Master\n"
     ]
    }
   ],
   "source": [
    "if __name__ == '__main__':  \n",
    "    speechtx(\"Greetings\")\n",
    "    print(\"tell password to verify yourself\")\n",
    "    speechtx(\"tell password to verify yourself\")\n",
    "    if sptext().lower() == \"test\":\n",
    "        print(\"Good enough\")\n",
    "        speechtx(\"Good enough\")\n",
    "        while True:\n",
    "            data1=sptext().lower()\n",
    "            if \"your name\" in data1:\n",
    "                yourname()\n",
    "            elif \"age\" in data1:\n",
    "                age()\n",
    "            elif 'time' in data1:\n",
    "                time()\n",
    "            elif 'date' in data1:\n",
    "                date()\n",
    "            elif 'open youtube' in data1:\n",
    "                Youtube()\n",
    "            elif 'open google' in data1:\n",
    "                speechtx(\"ok master opening google\")\n",
    "                webbrowser.open(\"https://www.google.co.in/\")    \n",
    "            elif 'Search' in data1:\n",
    "                Wiki()\n",
    "            elif 'tell me' in data1:\n",
    "                wolfram()\n",
    "            elif 'play song' in data1:\n",
    "                song()  \n",
    "            elif 'open folder' in data1:\n",
    "                Browse()\n",
    "            elif 'open file' in data1:\n",
    "                openfile()\n",
    "            elif 'close' in data1:\n",
    "                speechtx(\"Thank You Master\")\n",
    "                print(\"Thank You Master\")\n",
    "                break\n",
    "            else:\n",
    "                print(\"please repeat\")\n",
    "                speechtx(\"please repeat\")\n",
    "    else:\n",
    "        speechtx(\"F U Imposter\")\n",
    "        print(\"F U Imposter\")\n",
    "        "
   ]
  },
  {
   "cell_type": "code",
   "execution_count": null,
   "metadata": {},
   "outputs": [],
   "source": []
  }
 ],
 "metadata": {
  "kernelspec": {
   "display_name": "Python 3",
   "language": "python",
   "name": "python3"
  },
  "language_info": {
   "codemirror_mode": {
    "name": "ipython",
    "version": 3
   },
   "file_extension": ".py",
   "mimetype": "text/x-python",
   "name": "python",
   "nbconvert_exporter": "python",
   "pygments_lexer": "ipython3",
   "version": "3.8.5"
  }
 },
 "nbformat": 4,
 "nbformat_minor": 4
}
